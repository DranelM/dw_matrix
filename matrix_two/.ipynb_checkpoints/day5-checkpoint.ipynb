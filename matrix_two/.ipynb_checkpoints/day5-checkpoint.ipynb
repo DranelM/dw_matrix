{
 "cells": [
  {
   "cell_type": "code",
   "execution_count": 1,
   "metadata": {
    "ExecuteTime": {
     "end_time": "2020-03-06T16:55:03.854528Z",
     "start_time": "2020-03-06T16:54:52.370711Z"
    }
   },
   "outputs": [
    {
     "name": "stderr",
     "output_type": "stream",
     "text": [
      "c:\\users\\macie\\anaconda3\\envs\\ds\\lib\\importlib\\_bootstrap.py:219: RuntimeWarning: numpy.ufunc size changed, may indicate binary incompatibility. Expected 192 from C header, got 216 from PyObject\n",
      "  return f(*args, **kwds)\n",
      "c:\\users\\macie\\anaconda3\\envs\\ds\\lib\\importlib\\_bootstrap.py:219: RuntimeWarning: numpy.ufunc size changed, may indicate binary incompatibility. Expected 192 from C header, got 216 from PyObject\n",
      "  return f(*args, **kwds)\n",
      "c:\\users\\macie\\anaconda3\\envs\\ds\\lib\\importlib\\_bootstrap.py:219: RuntimeWarning: numpy.ufunc size changed, may indicate binary incompatibility. Expected 192 from C header, got 216 from PyObject\n",
      "  return f(*args, **kwds)\n",
      "c:\\users\\macie\\anaconda3\\envs\\ds\\lib\\importlib\\_bootstrap.py:219: RuntimeWarning: numpy.ufunc size changed, may indicate binary incompatibility. Expected 192 from C header, got 216 from PyObject\n",
      "  return f(*args, **kwds)\n",
      "c:\\users\\macie\\anaconda3\\envs\\ds\\lib\\site-packages\\sklearn\\utils\\deprecation.py:144: FutureWarning: The sklearn.metrics.scorer module is  deprecated in version 0.22 and will be removed in version 0.24. The corresponding classes / functions should instead be imported from sklearn.metrics. Anything that cannot be imported from sklearn.metrics is now part of the private API.\n",
      "  warnings.warn(message, FutureWarning)\n",
      "c:\\users\\macie\\anaconda3\\envs\\ds\\lib\\site-packages\\sklearn\\utils\\deprecation.py:144: FutureWarning: The sklearn.feature_selection.base module is  deprecated in version 0.22 and will be removed in version 0.24. The corresponding classes / functions should instead be imported from sklearn.feature_selection. Anything that cannot be imported from sklearn.feature_selection is now part of the private API.\n",
      "  warnings.warn(message, FutureWarning)\n"
     ]
    }
   ],
   "source": [
    "import pandas as pd\n",
    "import numpy as np\n",
    "\n",
    "import xgboost as xgb\n",
    "\n",
    "from sklearn.metrics import mean_absolute_error as mae\n",
    "from sklearn.model_selection import cross_val_score, KFold\n",
    "\n",
    "from hyperopt import hp, fmin, tpe, STATUS_OK\n",
    "\n",
    "import eli5\n",
    "from eli5.sklearn import PermutationImportance\n",
    "\n",
    "import re"
   ]
  },
  {
   "cell_type": "markdown",
   "metadata": {},
   "source": [
    "## Wczytywanie Danych"
   ]
  },
  {
   "cell_type": "code",
   "execution_count": 2,
   "metadata": {
    "ExecuteTime": {
     "end_time": "2020-03-06T16:55:08.683799Z",
     "start_time": "2020-03-06T16:55:03.858528Z"
    }
   },
   "outputs": [],
   "source": [
    "df = pd.read_hdf('../data/car.h5')"
   ]
  },
  {
   "cell_type": "code",
   "execution_count": 3,
   "metadata": {
    "ExecuteTime": {
     "end_time": "2020-03-06T16:55:08.699795Z",
     "start_time": "2020-03-06T16:55:08.685823Z"
    }
   },
   "outputs": [
    {
     "data": {
      "text/plain": [
       "Index(['breadcrumb', 'created_at', 'price_currency', 'price_details',\n",
       "       'price_value', 'seller_address', 'seller_name', 'seller_type',\n",
       "       'feature_czujniki-parkowania-przednie',\n",
       "       'feature_poduszka-powietrzna-chroniąca-kolana',\n",
       "       ...\n",
       "       'param_pearl', 'param_stan', 'param_wersja', 'param_emisja-co2',\n",
       "       'param_body-type', 'param_matowy', 'param_bezwypadkowy',\n",
       "       'param_akryl-(niemetalizowany)', 'param_monthly-payment-value',\n",
       "       'car_id'],\n",
       "      dtype='object', length=155)"
      ]
     },
     "execution_count": 3,
     "metadata": {},
     "output_type": "execute_result"
    }
   ],
   "source": [
    "df.columns"
   ]
  },
  {
   "cell_type": "markdown",
   "metadata": {},
   "source": [
    "## Dummy model"
   ]
  },
  {
   "cell_type": "code",
   "execution_count": 4,
   "metadata": {
    "ExecuteTime": {
     "end_time": "2020-03-06T16:55:17.937103Z",
     "start_time": "2020-03-06T16:55:17.583176Z"
    }
   },
   "outputs": [],
   "source": [
    "df = df[df['price_currency'] != 'EUR']"
   ]
  },
  {
   "cell_type": "code",
   "execution_count": 5,
   "metadata": {
    "ExecuteTime": {
     "end_time": "2020-03-06T16:55:18.399668Z",
     "start_time": "2020-03-06T16:55:18.394670Z"
    }
   },
   "outputs": [
    {
     "data": {
      "text/plain": [
       "(106290, 155)"
      ]
     },
     "execution_count": 5,
     "metadata": {},
     "output_type": "execute_result"
    }
   ],
   "source": [
    "df.shape"
   ]
  },
  {
   "cell_type": "markdown",
   "metadata": {},
   "source": [
    "## Features"
   ]
  },
  {
   "cell_type": "code",
   "execution_count": 6,
   "metadata": {
    "ExecuteTime": {
     "end_time": "2020-03-06T16:55:30.968912Z",
     "start_time": "2020-03-06T16:55:29.503100Z"
    }
   },
   "outputs": [],
   "source": [
    "SUFFIX_CAT = '__cat'\n",
    "for feat in df.columns:\n",
    "    if isinstance(df[feat][0], list):        \n",
    "        continue\n",
    "    factorized_values = df[feat].factorize()[0]\n",
    "    if SUFFIX_CAT in feat:\n",
    "        df[feat] = factorized_values\n",
    "    else:        \n",
    "        df[feat + SUFFIX_CAT] = factorized_values"
   ]
  },
  {
   "cell_type": "code",
   "execution_count": 7,
   "metadata": {
    "ExecuteTime": {
     "end_time": "2020-03-06T16:55:30.976825Z",
     "start_time": "2020-03-06T16:55:30.970825Z"
    }
   },
   "outputs": [
    {
     "data": {
      "text/plain": [
       "151"
      ]
     },
     "execution_count": 7,
     "metadata": {},
     "output_type": "execute_result"
    }
   ],
   "source": [
    "cat_feats = [x for x in df.columns if SUFFIX_CAT in x]\n",
    "cat_feats = [x for x in cat_feats if 'price' not in x]\n",
    "len(cat_feats)"
   ]
  },
  {
   "cell_type": "code",
   "execution_count": 8,
   "metadata": {
    "ExecuteTime": {
     "end_time": "2020-03-06T16:55:36.845509Z",
     "start_time": "2020-03-06T16:55:36.839511Z"
    }
   },
   "outputs": [],
   "source": [
    "def run_model(model, feats):    \n",
    "    X = df[feats].values\n",
    "    y = df['price_value'].values\n",
    "    scores = cross_val_score(model, X, y, cv=3, scoring='neg_mean_absolute_error')\n",
    "    return np.mean(scores), np.std(scores)"
   ]
  },
  {
   "cell_type": "markdown",
   "metadata": {},
   "source": [
    "## XGboost"
   ]
  },
  {
   "cell_type": "code",
   "execution_count": 9,
   "metadata": {
    "ExecuteTime": {
     "end_time": "2020-03-06T17:07:34.609944Z",
     "start_time": "2020-03-06T17:07:34.604946Z"
    }
   },
   "outputs": [],
   "source": [
    "feats = ['param_napęd__cat', 'param_rok-produkcji__cat', 'param_stan__cat', 'param_skrzynia-biegów__cat', 'param_faktura-vat__cat', 'param_moc__cat', 'param_marka-pojazdu__cat', 'param_typ__cat', 'feature_kamera-cofania__cat', 'param_pojemność-skokowa__cat', 'seller_name__cat', 'param_kod-silnika__cat', 'param_model-pojazdu__cat', 'feature_wspomaganie-kierownicy__cat', 'param_wersja__cat', 'feature_czujniki-parkowania-przednie__cat', 'feature_asystent-pasa-ruchu__cat', 'feature_regulowane-zawieszenie__cat', 'feature_system-start-stop__cat', 'feature_światła-led__cat']\n",
    "df['param_rok-produkcji'] = df['param_rok-produkcji'].map(lambda x: -1 if str(x) == 'None' else int(x))\n",
    "df['param_moc'] = df['param_moc'].map(lambda x: -1 if not x else int(re.findall('\\d*', x.replace(' ', ''))[0]))\n",
    "df['param_pojemność-skokowa'] = df['param_pojemność-skokowa'].map(lambda x: -1 if not x else int(re.findall('\\d*', x.replace(' ', ''))[0]))"
   ]
  },
  {
   "cell_type": "code",
   "execution_count": null,
   "metadata": {},
   "outputs": [],
   "source": [
    "feats = ['param_napęd__cat', 'param_rok-produkcji', 'param_stan__cat', 'param_skrzynia-biegów__cat', 'param_faktura-vat__cat', 'param_moc', 'param_marka-pojazdu__cat', 'param_typ__cat', 'feature_kamera-cofania__cat', 'param_pojemność-skokowa', 'seller_name__cat', 'param_kod-silnika__cat', 'param_model-pojazdu__cat', 'feature_wspomaganie-kierownicy__cat', 'param_wersja__cat', 'feature_czujniki-parkowania-przednie__cat', 'feature_asystent-pasa-ruchu__cat', 'feature_regulowane-zawieszenie__cat', 'feature_system-start-stop__cat', 'feature_światła-led__cat']"
   ]
  },
  {
   "cell_type": "code",
   "execution_count": 16,
   "metadata": {
    "ExecuteTime": {
     "end_time": "2020-03-06T17:08:32.999057Z",
     "start_time": "2020-03-06T17:08:26.530480Z"
    }
   },
   "outputs": [
    {
     "data": {
      "text/plain": [
       "(-9467.559541184863, 106.52529025706468)"
      ]
     },
     "execution_count": 16,
     "metadata": {},
     "output_type": "execute_result"
    }
   ],
   "source": [
    "xgb_params = {\n",
    "    'max_depth': 5,\n",
    "    'n_estimators': 50,\n",
    "    'learning_rate': 0.1,\n",
    "    'seed': 0\n",
    "}\n",
    "\n",
    "run_model(xgb.XGBRegressor(**xgb_params), feats)"
   ]
  },
  {
   "cell_type": "code",
   "execution_count": null,
   "metadata": {},
   "outputs": [],
   "source": []
  }
 ],
 "metadata": {
  "kernelspec": {
   "display_name": "Python 3",
   "language": "python",
   "name": "python3"
  },
  "language_info": {
   "codemirror_mode": {
    "name": "ipython",
    "version": 3
   },
   "file_extension": ".py",
   "mimetype": "text/x-python",
   "name": "python",
   "nbconvert_exporter": "python",
   "pygments_lexer": "ipython3",
   "version": "3.7.6"
  }
 },
 "nbformat": 4,
 "nbformat_minor": 4
}
