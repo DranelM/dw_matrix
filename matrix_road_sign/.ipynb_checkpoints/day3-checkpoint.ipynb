{
 "cells": [
  {
   "cell_type": "code",
   "execution_count": 1,
   "metadata": {
    "ExecuteTime": {
     "end_time": "2020-04-01T17:42:38.268152Z",
     "start_time": "2020-04-01T17:42:33.021266Z"
    }
   },
   "outputs": [],
   "source": [
    "import pandas as pd\n",
    "import numpy as np\n",
    "import matplotlib.pyplot as plt\n",
    "from collections import Counter\n",
    "\n",
    "import datetime\n",
    "import os\n",
    "\n",
    "import tensorflow as tf\n",
    "from tensorflow.keras.models import Sequential\n",
    "from tensorflow.keras.layers import Conv2D, MaxPool2D, Dense, Flatten, Dropout\n",
    "from tensorflow.keras.utils import to_categorical\n",
    "\n",
    "%load_ext tensorboard"
   ]
  },
  {
   "cell_type": "code",
   "execution_count": 2,
   "metadata": {
    "ExecuteTime": {
     "end_time": "2020-04-01T17:42:39.201848Z",
     "start_time": "2020-04-01T17:42:38.270152Z"
    }
   },
   "outputs": [],
   "source": [
    "train = pd.read_pickle(\"data/train.p\")\n",
    "test = pd.read_pickle(\"data/test.p\")\n",
    "train.keys()\n",
    "\n",
    "X_train, y_train = train['features'], train['labels']\n",
    "X_train.shape, y_train.shape\n",
    "\n",
    "X_test, y_test = test['features'], test['labels']\n",
    "X_test.shape, y_test.shape\n",
    "\n",
    "signs = pd.read_csv('data/signnames.csv')\n",
    "\n",
    "dict_signs = signs.to_dict()['b']"
   ]
  },
  {
   "cell_type": "code",
   "execution_count": 3,
   "metadata": {
    "ExecuteTime": {
     "end_time": "2020-04-01T17:42:39.211846Z",
     "start_time": "2020-04-01T17:42:39.203848Z"
    }
   },
   "outputs": [],
   "source": [
    "if y_train.ndim == 1: y_train = to_categorical(y_train)\n",
    "if y_test.ndim == 1: y_test = to_categorical(y_test)"
   ]
  },
  {
   "cell_type": "code",
   "execution_count": 4,
   "metadata": {
    "ExecuteTime": {
     "end_time": "2020-04-01T17:42:39.285821Z",
     "start_time": "2020-04-01T17:42:39.213845Z"
    }
   },
   "outputs": [],
   "source": [
    "input_shape = X_train.shape[1:]\n",
    "num_classes = y_train.shape[1]"
   ]
  },
  {
   "cell_type": "code",
   "execution_count": 5,
   "metadata": {
    "ExecuteTime": {
     "end_time": "2020-04-01T17:42:39.334804Z",
     "start_time": "2020-04-01T17:42:39.288819Z"
    }
   },
   "outputs": [],
   "source": [
    "def get_cnn_v1(input_shape, num_classes):\n",
    "    model = Sequential([\n",
    "        Conv2D(filters=64, kernel_size=(3, 3), activation='relu', input_shape=input_shape),\n",
    "        Flatten(),\n",
    "        Dense(num_classes, activation='softmax')\n",
    "    ])\n",
    "    \n",
    "    return model\n",
    "\n",
    "def train_model(model, X_train, y_train, params_fit={}):    \n",
    "    model.compile(optimizer='Adam', loss='categorical_crossentropy', metrics=['accuracy'])\n",
    "    \n",
    "    logdir = os.path.join('logs', datetime.datetime.now().strftime('%Y%m%d-%H%M%S'))\n",
    "    tensorboard_callback = tf.keras.callbacks.TensorBoard(logdir, histogram_freq=1)\n",
    "    \n",
    "    model.fit(\n",
    "        X_train,\n",
    "        y_train,\n",
    "        batch_size=params_fit.get('batch_size', 128),\n",
    "        epochs=params_fit.get('epochs', 5),\n",
    "        verbose=params_fit.get('verbose', 1),\n",
    "        validation_data=params_fit.get('validation_data', (X_train, y_train)),\n",
    "        callbacks = [tensorboard_callback]\n",
    "    )\n",
    "    \n",
    "    return logdir\n",
    "    "
   ]
  },
  {
   "cell_type": "code",
   "execution_count": 6,
   "metadata": {
    "ExecuteTime": {
     "end_time": "2020-04-01T17:45:24.883611Z",
     "start_time": "2020-04-01T17:42:39.337804Z"
    }
   },
   "outputs": [
    {
     "name": "stdout",
     "output_type": "stream",
     "text": [
      "Train on 34799 samples, validate on 34799 samples\n",
      "Epoch 1/5\n",
      "34799/34799 [==============================] - 34s 977us/sample - loss: 22.2027 - accuracy: 0.7609 - val_loss: 0.2295 - val_accuracy: 0.9479\n",
      "Epoch 2/5\n",
      "34799/34799 [==============================] - 33s 953us/sample - loss: 0.2282 - accuracy: 0.9475 - val_loss: 0.1267 - val_accuracy: 0.9690\n",
      "Epoch 3/5\n",
      "34799/34799 [==============================] - 32s 931us/sample - loss: 0.1361 - accuracy: 0.9688 - val_loss: 0.0809 - val_accuracy: 0.9802\n",
      "Epoch 4/5\n",
      "34799/34799 [==============================] - 33s 961us/sample - loss: 0.1072 - accuracy: 0.9755 - val_loss: 0.1084 - val_accuracy: 0.9753\n",
      "Epoch 5/5\n",
      "34799/34799 [==============================] - 32s 921us/sample - loss: 0.1027 - accuracy: 0.9757 - val_loss: 0.0694 - val_accuracy: 0.9842\n"
     ]
    }
   ],
   "source": [
    "model = get_cnn_v1(input_shape, num_classes)\n",
    "logdir = train_model(model, X_train, y_train)"
   ]
  },
  {
   "cell_type": "code",
   "execution_count": 8,
   "metadata": {
    "ExecuteTime": {
     "end_time": "2020-04-01T18:04:38.860761Z",
     "start_time": "2020-04-01T18:04:38.849764Z"
    }
   },
   "outputs": [
    {
     "data": {
      "text/plain": [
       "Reusing TensorBoard on port 6006 (pid 1316), started 0:19:09 ago. (Use '!kill 1316' to kill it.)"
      ]
     },
     "metadata": {},
     "output_type": "display_data"
    },
    {
     "data": {
      "text/html": [
       "\n",
       "      <iframe id=\"tensorboard-frame-f5d287332b3d3144\" width=\"100%\" height=\"800\" frameborder=\"0\">\n",
       "      </iframe>\n",
       "      <script>\n",
       "        (function() {\n",
       "          const frame = document.getElementById(\"tensorboard-frame-f5d287332b3d3144\");\n",
       "          const url = new URL(\"/\", window.location);\n",
       "          url.port = 6006;\n",
       "          frame.src = url;\n",
       "        })();\n",
       "      </script>\n",
       "  "
      ],
      "text/plain": [
       "<IPython.core.display.HTML object>"
      ]
     },
     "metadata": {},
     "output_type": "display_data"
    }
   ],
   "source": [
    "%tensorboard --logdir logs"
   ]
  },
  {
   "cell_type": "code",
   "execution_count": 10,
   "metadata": {
    "ExecuteTime": {
     "end_time": "2020-04-01T18:11:07.386875Z",
     "start_time": "2020-04-01T18:11:07.379878Z"
    }
   },
   "outputs": [],
   "source": [
    "def get_cnn_v2(input_shape, num_classes):\n",
    "    model = Sequential([\n",
    "        Conv2D(filters=32, kernel_size=(3, 3), activation='relu', input_shape=input_shape),\n",
    "        MaxPool2D(),\n",
    "        Dropout(0.5),\n",
    "        \n",
    "        Conv2D(filters=64, kernel_size=(3, 3), activation='relu', input_shape=input_shape),\n",
    "        MaxPool2D(),\n",
    "        Dropout(0.3),\n",
    "        \n",
    "        Flatten(),\n",
    "        \n",
    "        Dense(1024, activation='relu'),\n",
    "        Dropout(0.5),\n",
    "        \n",
    "        Dense(num_classes, activation='softmax')\n",
    "    ])\n",
    "    \n",
    "    return model"
   ]
  },
  {
   "cell_type": "code",
   "execution_count": 11,
   "metadata": {
    "ExecuteTime": {
     "end_time": "2020-04-01T18:11:27.689754Z",
     "start_time": "2020-04-01T18:11:27.465827Z"
    }
   },
   "outputs": [],
   "source": [
    "model2 = get_cnn_v2(input_shape, num_classes)"
   ]
  },
  {
   "cell_type": "code",
   "execution_count": 13,
   "metadata": {
    "ExecuteTime": {
     "end_time": "2020-04-01T18:11:48.805155Z",
     "start_time": "2020-04-01T18:11:48.799158Z"
    }
   },
   "outputs": [
    {
     "name": "stdout",
     "output_type": "stream",
     "text": [
      "Model: \"sequential_1\"\n",
      "_________________________________________________________________\n",
      "Layer (type)                 Output Shape              Param #   \n",
      "=================================================================\n",
      "conv2d_1 (Conv2D)            (None, 30, 30, 32)        896       \n",
      "_________________________________________________________________\n",
      "max_pooling2d (MaxPooling2D) (None, 15, 15, 32)        0         \n",
      "_________________________________________________________________\n",
      "dropout (Dropout)            (None, 15, 15, 32)        0         \n",
      "_________________________________________________________________\n",
      "conv2d_2 (Conv2D)            (None, 13, 13, 64)        18496     \n",
      "_________________________________________________________________\n",
      "max_pooling2d_1 (MaxPooling2 (None, 6, 6, 64)          0         \n",
      "_________________________________________________________________\n",
      "dropout_1 (Dropout)          (None, 6, 6, 64)          0         \n",
      "_________________________________________________________________\n",
      "flatten_1 (Flatten)          (None, 2304)              0         \n",
      "_________________________________________________________________\n",
      "dense_1 (Dense)              (None, 1024)              2360320   \n",
      "_________________________________________________________________\n",
      "dropout_2 (Dropout)          (None, 1024)              0         \n",
      "_________________________________________________________________\n",
      "dense_2 (Dense)              (None, 43)                44075     \n",
      "=================================================================\n",
      "Total params: 2,423,787\n",
      "Trainable params: 2,423,787\n",
      "Non-trainable params: 0\n",
      "_________________________________________________________________\n"
     ]
    }
   ],
   "source": [
    "model2.summary()"
   ]
  },
  {
   "cell_type": "code",
   "execution_count": 16,
   "metadata": {
    "ExecuteTime": {
     "end_time": "2020-04-01T18:19:20.806977Z",
     "start_time": "2020-04-01T18:14:48.663073Z"
    }
   },
   "outputs": [
    {
     "name": "stdout",
     "output_type": "stream",
     "text": [
      "Train on 34799 samples, validate on 34799 samples\n",
      "Epoch 1/5\n",
      "34799/34799 [==============================] - 52s 2ms/sample - loss: 5.7930 - accuracy: 0.2843 - val_loss: 1.3700 - val_accuracy: 0.6451\n",
      "Epoch 2/5\n",
      "34799/34799 [==============================] - 52s 1ms/sample - loss: 1.2582 - accuracy: 0.6338 - val_loss: 0.5893 - val_accuracy: 0.8817\n",
      "Epoch 3/5\n",
      "34799/34799 [==============================] - 52s 1ms/sample - loss: 0.8099 - accuracy: 0.7526 - val_loss: 0.3280 - val_accuracy: 0.9269\n",
      "Epoch 4/5\n",
      "34799/34799 [==============================] - 60s 2ms/sample - loss: 0.5998 - accuracy: 0.8139 - val_loss: 0.1998 - val_accuracy: 0.9535\n",
      "Epoch 5/5\n",
      "34799/34799 [==============================] - 55s 2ms/sample - loss: 0.4910 - accuracy: 0.8499 - val_loss: 0.1752 - val_accuracy: 0.9569\n"
     ]
    }
   ],
   "source": [
    "logdir2 = train_model(model2, X_train, y_train)"
   ]
  },
  {
   "cell_type": "code",
   "execution_count": 23,
   "metadata": {
    "ExecuteTime": {
     "end_time": "2020-04-01T18:21:43.433393Z",
     "start_time": "2020-04-01T18:21:43.423395Z"
    }
   },
   "outputs": [
    {
     "data": {
      "text/plain": [
       "Reusing TensorBoard on port 6006 (pid 1316), started 0:36:14 ago. (Use '!kill 1316' to kill it.)"
      ]
     },
     "metadata": {},
     "output_type": "display_data"
    },
    {
     "data": {
      "text/html": [
       "\n",
       "      <iframe id=\"tensorboard-frame-d5102e85232cc3c9\" width=\"100%\" height=\"800\" frameborder=\"0\">\n",
       "      </iframe>\n",
       "      <script>\n",
       "        (function() {\n",
       "          const frame = document.getElementById(\"tensorboard-frame-d5102e85232cc3c9\");\n",
       "          const url = new URL(\"/\", window.location);\n",
       "          url.port = 6006;\n",
       "          frame.src = url;\n",
       "        })();\n",
       "      </script>\n",
       "  "
      ],
      "text/plain": [
       "<IPython.core.display.HTML object>"
      ]
     },
     "metadata": {},
     "output_type": "display_data"
    }
   ],
   "source": [
    "%tensorboard --logdir logs"
   ]
  }
 ],
 "metadata": {
  "kernelspec": {
   "display_name": "Python 3",
   "language": "python",
   "name": "python3"
  },
  "language_info": {
   "codemirror_mode": {
    "name": "ipython",
    "version": 3
   },
   "file_extension": ".py",
   "mimetype": "text/x-python",
   "name": "python",
   "nbconvert_exporter": "python",
   "pygments_lexer": "ipython3",
   "version": "3.7.6"
  }
 },
 "nbformat": 4,
 "nbformat_minor": 4
}
